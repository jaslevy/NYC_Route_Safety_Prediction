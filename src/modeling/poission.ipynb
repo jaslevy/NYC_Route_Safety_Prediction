{
 "cells": [
  {
   "cell_type": "code",
   "execution_count": null,
   "metadata": {},
   "outputs": [],
   "source": [
    "import statsmodels.api as sm\n",
    "import statsmodels.formula.api as smf\n",
    "\n",
    "# Aggregate by intersection, date, hour\n",
    "agg = df.groupby(['nearest_intersection_id', 'crash_date', 'hour']).size().reset_index(name='crash_count')\n",
    "agg = agg.merge(weather_df, left_on=['crash_date', 'nearest_intersection_id'], right_on=['date', 'nearest_intersection_id'], how='left')\n",
    "\n",
    "# Poisson regression formula\n",
    "formula = 'crash_count ~ C(nearest_intersection_id) + hour + day_of_week + tavg + prcp + wspd'\n",
    "poisson_model = smf.glm(formula=formula, data=agg, family=sm.families.Poisson()).fit()\n",
    "print(poisson_model.summary())"
   ]
  }
 ],
 "metadata": {
  "language_info": {
   "name": "python"
  }
 },
 "nbformat": 4,
 "nbformat_minor": 2
}
