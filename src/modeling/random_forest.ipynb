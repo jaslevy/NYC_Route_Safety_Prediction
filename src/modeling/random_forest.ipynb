{
 "cells": [
  {
   "cell_type": "markdown",
   "metadata": {},
   "source": [
    "# Setting Up Data"
   ]
  },
  {
   "cell_type": "code",
   "execution_count": 2,
   "metadata": {},
   "outputs": [
    {
     "name": "stderr",
     "output_type": "stream",
     "text": [
      "/var/folders/lx/pn018tmx0pq2y3z58prkblww0000gn/T/ipykernel_10242/2216830853.py:4: DtypeWarning: Columns (30) have mixed types. Specify dtype option on import or set low_memory=False.\n",
      "  enhanced_df = pd.read_csv('../../static_data/processed/traffic_weather_intersections.csv')\n"
     ]
    },
    {
     "name": "stdout",
     "output_type": "stream",
     "text": [
      "(1931301, 40)\n",
      "Index(['crash_date', 'crash_time', 'on_street_name', 'off_street_name',\n",
      "       'number_of_persons_injured', 'number_of_persons_killed',\n",
      "       'number_of_pedestrians_injured', 'number_of_pedestrians_killed',\n",
      "       'number_of_cyclist_injured', 'number_of_cyclist_killed',\n",
      "       'number_of_motorist_injured', 'number_of_motorist_killed',\n",
      "       'contributing_factor_vehicle_1', 'contributing_factor_vehicle_2',\n",
      "       'collision_id', 'vehicle_type_code1', 'vehicle_type_code2',\n",
      "       'borough_traffic', 'latitude', 'longitude', 'location',\n",
      "       'weather_borough', 'tavg', 'tmin', 'tmax', 'prcp', 'snow', 'wdir',\n",
      "       'wspd', 'pres', 'borough_weather', 'x_ny_state_plane',\n",
      "       'y_ny_state_plane', 'nearest_intersection_id',\n",
      "       'nearest_intersection_name', 'nearest_intersection_lat',\n",
      "       'nearest_intersection_lon', 'nearest_intersection_x_ny',\n",
      "       'nearest_intersection_y_ny', 'distance_to_intersection_km'],\n",
      "      dtype='object')\n",
      "Unique intersections: 52691\n",
      "Date range: 2012-07-01 to 2025-04-22 (4679 days)\n",
      "Estimated total rows (intersection x day x hour): 5,916,988,536\n"
     ]
    }
   ],
   "source": [
    "import numpy as np\n",
    "import pandas as pd\n",
    "\n",
    "enhanced_df = pd.read_csv('../../static_data/processed/traffic_weather_intersections.csv')\n",
    "\n",
    "print(enhanced_df.shape)\n",
    "print(enhanced_df.columns)\n",
    "\n",
    "\n",
    "# Unique intersections\n",
    "n_intersections = enhanced_df['nearest_intersection_id'].nunique()\n",
    "\n",
    "# Date range\n",
    "min_date = pd.to_datetime(enhanced_df['crash_date']).min()\n",
    "max_date = pd.to_datetime(enhanced_df['crash_date']).max()\n",
    "n_days = (max_date - min_date).days + 1\n",
    "\n",
    "# Number of hours per day\n",
    "n_hours = 24\n",
    "\n",
    "# Estimated total rows\n",
    "estimated_rows = n_intersections * n_days * n_hours\n",
    "\n",
    "print(f\"Unique intersections: {n_intersections}\")\n",
    "print(f\"Date range: {min_date.date()} to {max_date.date()} ({n_days} days)\")\n",
    "print(f\"Estimated total rows (intersection x day x hour): {estimated_rows:,}\")"
   ]
  },
  {
   "cell_type": "markdown",
   "metadata": {},
   "source": [
    "## We would need to use spark + access a cloud cluster for processing 6B rows of data for a random forest"
   ]
  }
 ],
 "metadata": {
  "kernelspec": {
   "display_name": "Python 3",
   "language": "python",
   "name": "python3"
  },
  "language_info": {
   "codemirror_mode": {
    "name": "ipython",
    "version": 3
   },
   "file_extension": ".py",
   "mimetype": "text/x-python",
   "name": "python",
   "nbconvert_exporter": "python",
   "pygments_lexer": "ipython3",
   "version": "3.10.13"
  }
 },
 "nbformat": 4,
 "nbformat_minor": 2
}
